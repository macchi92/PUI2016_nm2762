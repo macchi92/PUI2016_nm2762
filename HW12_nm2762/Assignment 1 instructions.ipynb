{
 "cells": [
  {
   "cell_type": "markdown",
   "metadata": {},
   "source": [
    "# Extra credit nm2762"
   ]
  },
  {
   "cell_type": "code",
   "execution_count": 1,
   "metadata": {
    "collapsed": false
   },
   "outputs": [
    {
     "name": "stderr",
     "output_type": "stream",
     "text": [
      "/Users/nicolamacchitella/anaconda/lib/python2.7/site-packages/matplotlib/font_manager.py:273: UserWarning: Matplotlib is building the font cache using fc-list. This may take a moment.\n",
      "  warnings.warn('Matplotlib is building the font cache using fc-list. This may take a moment.')\n"
     ]
    }
   ],
   "source": [
    "import ast\n",
    "# note this is python2 compatible only. the pykriging code is also python2 only\n",
    "import urllib2\n",
    "import urllib\n",
    "from cStringIO import StringIO\n",
    "import json\n",
    "import geopandas as gpd\n",
    "import pandas as pd\n",
    "import zipfile\n",
    "import matplotlib\n",
    "import pylab as pl\n",
    "%matplotlib inline\n",
    "import numpy as np\n",
    "from scipy.spatial.distance import pdist, squareform\n",
    "import os\n",
    "import seaborn\n",
    "\n",
    "\n",
    "\n"
   ]
  },
  {
   "cell_type": "markdown",
   "metadata": {},
   "source": [
    "# Building Function and Query"
   ]
  },
  {
   "cell_type": "code",
   "execution_count": 2,
   "metadata": {
    "collapsed": true
   },
   "outputs": [],
   "source": [
    "SQL_SOURCE = 'https://fb55.carto.com/api/v2/sql'\n",
    "\n",
    "def queryCartoDB(query, format='CSV', source=SQL_SOURCE):\n",
    "    \"\"\" queries a url with an sql compatible search\n",
    "    Arguments:\n",
    "    query : the sql query string\n",
    "    format : the expected format\n",
    "    source \" the url of the API\n",
    "    \"\"\"\n",
    "    data = urllib.urlencode({'format': format, 'q': query})\n",
    "    try:\n",
    "        response = urllib2.urlopen(source, data)\n",
    "    except urllib2.HTTPError, e:\n",
    "        raise ValueError('\\n'.join(ast.literal_eval(e.readline())['error']))\n",
    "    except Exception:\n",
    "        raise\n",
    "    return StringIO(response.read())"
   ]
  },
  {
   "cell_type": "code",
   "execution_count": 3,
   "metadata": {
    "collapsed": false
   },
   "outputs": [
    {
     "data": {
      "text/html": [
       "<div>\n",
       "<table border=\"1\" class=\"dataframe\">\n",
       "  <thead>\n",
       "    <tr style=\"text-align: right;\">\n",
       "      <th></th>\n",
       "      <th>count</th>\n",
       "      <th>zipcodes</th>\n",
       "    </tr>\n",
       "  </thead>\n",
       "  <tbody>\n",
       "    <tr>\n",
       "      <th>0</th>\n",
       "      <td>1699</td>\n",
       "      <td>10461</td>\n",
       "    </tr>\n",
       "    <tr>\n",
       "      <th>1</th>\n",
       "      <td>405</td>\n",
       "      <td>11373</td>\n",
       "    </tr>\n",
       "    <tr>\n",
       "      <th>2</th>\n",
       "      <td>1698</td>\n",
       "      <td>10451</td>\n",
       "    </tr>\n",
       "    <tr>\n",
       "      <th>3</th>\n",
       "      <td>220</td>\n",
       "      <td>11691</td>\n",
       "    </tr>\n",
       "    <tr>\n",
       "      <th>4</th>\n",
       "      <td>246</td>\n",
       "      <td>11375</td>\n",
       "    </tr>\n",
       "    <tr>\n",
       "      <th>5</th>\n",
       "      <td>494</td>\n",
       "      <td>10466</td>\n",
       "    </tr>\n",
       "    <tr>\n",
       "      <th>6</th>\n",
       "      <td>713</td>\n",
       "      <td>11212</td>\n",
       "    </tr>\n",
       "    <tr>\n",
       "      <th>7</th>\n",
       "      <td>167</td>\n",
       "      <td>11229</td>\n",
       "    </tr>\n",
       "    <tr>\n",
       "      <th>8</th>\n",
       "      <td>521</td>\n",
       "      <td>11215</td>\n",
       "    </tr>\n",
       "    <tr>\n",
       "      <th>9</th>\n",
       "      <td>386</td>\n",
       "      <td>11220</td>\n",
       "    </tr>\n",
       "    <tr>\n",
       "      <th>10</th>\n",
       "      <td>641</td>\n",
       "      <td>11355</td>\n",
       "    </tr>\n",
       "    <tr>\n",
       "      <th>11</th>\n",
       "      <td>376</td>\n",
       "      <td>11213</td>\n",
       "    </tr>\n",
       "    <tr>\n",
       "      <th>12</th>\n",
       "      <td>567</td>\n",
       "      <td>11418</td>\n",
       "    </tr>\n",
       "    <tr>\n",
       "      <th>13</th>\n",
       "      <td>411</td>\n",
       "      <td>10310</td>\n",
       "    </tr>\n",
       "    <tr>\n",
       "      <th>14</th>\n",
       "      <td>1829</td>\n",
       "      <td>11203</td>\n",
       "    </tr>\n",
       "    <tr>\n",
       "      <th>15</th>\n",
       "      <td>281</td>\n",
       "      <td>11102</td>\n",
       "    </tr>\n",
       "    <tr>\n",
       "      <th>16</th>\n",
       "      <td>222</td>\n",
       "      <td>11234</td>\n",
       "    </tr>\n",
       "    <tr>\n",
       "      <th>17</th>\n",
       "      <td>1156</td>\n",
       "      <td>11237</td>\n",
       "    </tr>\n",
       "    <tr>\n",
       "      <th>18</th>\n",
       "      <td>421</td>\n",
       "      <td>11219</td>\n",
       "    </tr>\n",
       "    <tr>\n",
       "      <th>19</th>\n",
       "      <td>822</td>\n",
       "      <td>10457</td>\n",
       "    </tr>\n",
       "    <tr>\n",
       "      <th>20</th>\n",
       "      <td>320</td>\n",
       "      <td>11235</td>\n",
       "    </tr>\n",
       "    <tr>\n",
       "      <th>21</th>\n",
       "      <td>466</td>\n",
       "      <td>11206</td>\n",
       "    </tr>\n",
       "    <tr>\n",
       "      <th>22</th>\n",
       "      <td>1072</td>\n",
       "      <td>10456</td>\n",
       "    </tr>\n",
       "    <tr>\n",
       "      <th>23</th>\n",
       "      <td>926</td>\n",
       "      <td>11040</td>\n",
       "    </tr>\n",
       "    <tr>\n",
       "      <th>24</th>\n",
       "      <td>940</td>\n",
       "      <td>11201</td>\n",
       "    </tr>\n",
       "    <tr>\n",
       "      <th>25</th>\n",
       "      <td>2164</td>\n",
       "      <td>10467</td>\n",
       "    </tr>\n",
       "    <tr>\n",
       "      <th>26</th>\n",
       "      <td>293</td>\n",
       "      <td>11432</td>\n",
       "    </tr>\n",
       "    <tr>\n",
       "      <th>27</th>\n",
       "      <td>447</td>\n",
       "      <td>10305</td>\n",
       "    </tr>\n",
       "    <tr>\n",
       "      <th>28</th>\n",
       "      <td>145</td>\n",
       "      <td>10309</td>\n",
       "    </tr>\n",
       "  </tbody>\n",
       "</table>\n",
       "</div>"
      ],
      "text/plain": [
       "    count  zipcodes\n",
       "0    1699     10461\n",
       "1     405     11373\n",
       "2    1698     10451\n",
       "3     220     11691\n",
       "4     246     11375\n",
       "5     494     10466\n",
       "6     713     11212\n",
       "7     167     11229\n",
       "8     521     11215\n",
       "9     386     11220\n",
       "10    641     11355\n",
       "11    376     11213\n",
       "12    567     11418\n",
       "13    411     10310\n",
       "14   1829     11203\n",
       "15    281     11102\n",
       "16    222     11234\n",
       "17   1156     11237\n",
       "18    421     11219\n",
       "19    822     10457\n",
       "20    320     11235\n",
       "21    466     11206\n",
       "22   1072     10456\n",
       "23    926     11040\n",
       "24    940     11201\n",
       "25   2164     10467\n",
       "26    293     11432\n",
       "27    447     10305\n",
       "28    145     10309"
      ]
     },
     "execution_count": 3,
     "metadata": {},
     "output_type": "execute_result"
    }
   ],
   "source": [
    "# fill in the query details in facilityQuery: \n",
    "# within a single query collect AND GROUP the data by zipcode\n",
    "facilityQuery = '''\n",
    "SELECT \n",
    "COUNT (*) as count,\n",
    "zipcodes\n",
    "FROM nycasthmasdismissals\n",
    "GROUP BY zipcodes;'''\n",
    "facilityStream = queryCartoDB(facilityQuery, format='JSON')\n",
    "facilityData   = json.loads(facilityStream.read())\n",
    "facilityData\n",
    "facilities     = pd.DataFrame.from_dict(facilityData['rows'])\n",
    "facilities"
   ]
  },
  {
   "cell_type": "markdown",
   "metadata": {},
   "source": [
    "# Downloading and Uploading the ZipShapeFile"
   ]
  },
  {
   "cell_type": "code",
   "execution_count": 4,
   "metadata": {
    "collapsed": false
   },
   "outputs": [
    {
     "name": "stdout",
     "output_type": "stream",
     "text": [
      "  % Total    % Received % Xferd  Average Speed   Time    Time     Time  Current\n",
      "                                 Dload  Upload   Total   Spent    Left  Speed\n",
      "100 1478k  100 1478k    0     0   738k      0  0:00:02  0:00:02 --:--:--  815k\n"
     ]
    }
   ],
   "source": [
    "!curl -o zipcodeshape 'https://data.cityofnewyork.us/api/file_data/YObIR0MbpUVA0EpQzZSq5x55FzKGM2ejSeahdvjqR20?filename=ZIP_CODE_040114.zip'\n"
   ]
  },
  {
   "cell_type": "code",
   "execution_count": 5,
   "metadata": {
    "collapsed": false
   },
   "outputs": [],
   "source": [
    "zf = zipfile.ZipFile('zipcodeshape')\n",
    "zf.extractall('shape')\n",
    "zf.close()"
   ]
  },
  {
   "cell_type": "code",
   "execution_count": 6,
   "metadata": {
    "collapsed": true
   },
   "outputs": [],
   "source": [
    "newyork=gpd.read_file('shape/ZIP_CODE_040114.shp')"
   ]
  },
  {
   "cell_type": "code",
   "execution_count": 7,
   "metadata": {
    "collapsed": false
   },
   "outputs": [
    {
     "data": {
      "text/html": [
       "<div>\n",
       "<table border=\"1\" class=\"dataframe\">\n",
       "  <thead>\n",
       "    <tr style=\"text-align: right;\">\n",
       "      <th></th>\n",
       "      <th>AREA</th>\n",
       "      <th>BLDGZIP</th>\n",
       "      <th>COUNTY</th>\n",
       "      <th>CTY_FIPS</th>\n",
       "      <th>POPULATION</th>\n",
       "      <th>PO_NAME</th>\n",
       "      <th>SHAPE_AREA</th>\n",
       "      <th>SHAPE_LEN</th>\n",
       "      <th>STATE</th>\n",
       "      <th>ST_FIPS</th>\n",
       "      <th>URL</th>\n",
       "      <th>ZIPCODE</th>\n",
       "      <th>geometry</th>\n",
       "    </tr>\n",
       "  </thead>\n",
       "  <tbody>\n",
       "    <tr>\n",
       "      <th>0</th>\n",
       "      <td>2.269930e+07</td>\n",
       "      <td>0</td>\n",
       "      <td>Queens</td>\n",
       "      <td>081</td>\n",
       "      <td>18681.0</td>\n",
       "      <td>Jamaica</td>\n",
       "      <td>0.0</td>\n",
       "      <td>0.0</td>\n",
       "      <td>NY</td>\n",
       "      <td>36</td>\n",
       "      <td>http://www.usps.com/</td>\n",
       "      <td>11436</td>\n",
       "      <td>POLYGON ((1038098.251871482 188138.3800067157,...</td>\n",
       "    </tr>\n",
       "  </tbody>\n",
       "</table>\n",
       "</div>"
      ],
      "text/plain": [
       "           AREA BLDGZIP  COUNTY CTY_FIPS  POPULATION  PO_NAME  SHAPE_AREA  \\\n",
       "0  2.269930e+07       0  Queens      081     18681.0  Jamaica         0.0   \n",
       "\n",
       "   SHAPE_LEN STATE ST_FIPS                   URL ZIPCODE  \\\n",
       "0        0.0    NY      36  http://www.usps.com/   11436   \n",
       "\n",
       "                                            geometry  \n",
       "0  POLYGON ((1038098.251871482 188138.3800067157,...  "
      ]
     },
     "execution_count": 7,
     "metadata": {},
     "output_type": "execute_result"
    }
   ],
   "source": [
    "newyork.head(n=1)"
   ]
  },
  {
   "cell_type": "markdown",
   "metadata": {},
   "source": [
    "# Merging"
   ]
  },
  {
   "cell_type": "code",
   "execution_count": 8,
   "metadata": {
    "collapsed": false
   },
   "outputs": [],
   "source": [
    "newyork['ZIPCODE']=newyork['ZIPCODE'].astype(int)"
   ]
  },
  {
   "cell_type": "code",
   "execution_count": 9,
   "metadata": {
    "collapsed": false
   },
   "outputs": [],
   "source": [
    "result = pd.merge(facilities, newyork, how='left', left_on='zipcodes', right_on='ZIPCODE')\n"
   ]
  },
  {
   "cell_type": "code",
   "execution_count": 10,
   "metadata": {
    "collapsed": false
   },
   "outputs": [],
   "source": [
    "result.drop([  u'AREA',    u'BLDGZIP',\n",
    "           u'COUNTY',   u'CTY_FIPS', u'POPULATION',    u'PO_NAME',\n",
    "       u'SHAPE_AREA',  u'SHAPE_LEN',      u'STATE',    u'ST_FIPS',\n",
    "              u'URL',    u'ZIPCODE',], axis=1, inplace=True)\n"
   ]
  },
  {
   "cell_type": "code",
   "execution_count": 11,
   "metadata": {
    "collapsed": false
   },
   "outputs": [
    {
     "data": {
      "text/html": [
       "<div>\n",
       "<table border=\"1\" class=\"dataframe\">\n",
       "  <thead>\n",
       "    <tr style=\"text-align: right;\">\n",
       "      <th></th>\n",
       "      <th>count</th>\n",
       "      <th>zipcodes</th>\n",
       "      <th>geometry</th>\n",
       "    </tr>\n",
       "  </thead>\n",
       "  <tbody>\n",
       "    <tr>\n",
       "      <th>0</th>\n",
       "      <td>1699</td>\n",
       "      <td>10461</td>\n",
       "      <td>POLYGON ((1029230.779448971 251468.9475710541,...</td>\n",
       "    </tr>\n",
       "  </tbody>\n",
       "</table>\n",
       "</div>"
      ],
      "text/plain": [
       "   count  zipcodes                                           geometry\n",
       "0   1699     10461  POLYGON ((1029230.779448971 251468.9475710541,..."
      ]
     },
     "execution_count": 11,
     "metadata": {},
     "output_type": "execute_result"
    }
   ],
   "source": [
    "result.head(n=1)"
   ]
  },
  {
   "cell_type": "markdown",
   "metadata": {},
   "source": [
    "# Getting the centroids"
   ]
  },
  {
   "cell_type": "code",
   "execution_count": 12,
   "metadata": {
    "collapsed": true
   },
   "outputs": [],
   "source": [
    "result=gpd.GeoDataFrame(result)"
   ]
  },
  {
   "cell_type": "code",
   "execution_count": 13,
   "metadata": {
    "collapsed": false
   },
   "outputs": [],
   "source": [
    "result['geometry']=result.geometry.centroid"
   ]
  },
  {
   "cell_type": "code",
   "execution_count": 14,
   "metadata": {
    "collapsed": false
   },
   "outputs": [
    {
     "data": {
      "text/html": [
       "<div>\n",
       "<table border=\"1\" class=\"dataframe\">\n",
       "  <thead>\n",
       "    <tr style=\"text-align: right;\">\n",
       "      <th></th>\n",
       "      <th>count</th>\n",
       "      <th>zipcodes</th>\n",
       "      <th>geometry</th>\n",
       "    </tr>\n",
       "  </thead>\n",
       "  <tbody>\n",
       "    <tr>\n",
       "      <th>0</th>\n",
       "      <td>1699</td>\n",
       "      <td>10461</td>\n",
       "      <td>POINT (1028292.72437689 247902.4282787614)</td>\n",
       "    </tr>\n",
       "  </tbody>\n",
       "</table>\n",
       "</div>"
      ],
      "text/plain": [
       "   count  zipcodes                                    geometry\n",
       "0   1699     10461  POINT (1028292.72437689 247902.4282787614)"
      ]
     },
     "execution_count": 14,
     "metadata": {},
     "output_type": "execute_result"
    }
   ],
   "source": [
    "result.head(n=1)"
   ]
  },
  {
   "cell_type": "code",
   "execution_count": 15,
   "metadata": {
    "collapsed": true
   },
   "outputs": [],
   "source": [
    "def getX(pt):\n",
    "    return pt.x\n",
    "def getY(pt):\n",
    "    return pt.y"
   ]
  },
  {
   "cell_type": "code",
   "execution_count": 16,
   "metadata": {
    "collapsed": true
   },
   "outputs": [],
   "source": [
    "centroidlist_x=map(getX,result['geometry'].centroid)\n",
    "centroidlist_y=map(getY,result['geometry'].centroid)\n"
   ]
  },
  {
   "cell_type": "markdown",
   "metadata": {},
   "source": [
    "# Creating a 3xN numpy array with x-location, y-location, number of dismissals"
   ]
  },
  {
   "cell_type": "code",
   "execution_count": 17,
   "metadata": {
    "collapsed": true
   },
   "outputs": [],
   "source": [
    "krigdata=np.zeros((len(result),3))"
   ]
  },
  {
   "cell_type": "code",
   "execution_count": 18,
   "metadata": {
    "collapsed": false
   },
   "outputs": [],
   "source": [
    "krigdata[:,2] = result['count']\n",
    "for i in range(len(krigdata)):\n",
    "    krigdata[:,0][i] = centroidlist_x[i]\n",
    "    krigdata[:,1][i] = centroidlist_y[i]"
   ]
  },
  {
   "cell_type": "markdown",
   "metadata": {},
   "source": [
    "# Plot"
   ]
  },
  {
   "cell_type": "code",
   "execution_count": 19,
   "metadata": {
    "collapsed": false
   },
   "outputs": [
    {
     "data": {
      "text/plain": [
       "<matplotlib.text.Text at 0x118f615d0>"
      ]
     },
     "execution_count": 19,
     "metadata": {},
     "output_type": "execute_result"
    },
    {
     "data": {
      "image/png": "[encoded data removed]",
      "text/plain": [
       "<matplotlib.figure.Figure at 0x118f47650>"
      ]
     },
     "metadata": {},
     "output_type": "display_data"
    }
   ],
   "source": [
    "pl.figure(figsize=(10,10))\n",
    "pl.scatter(krigdata[:,0], krigdata[:,1], c=krigdata[:,2], s=100, cmap='bone')\n",
    "pl.xlabel(\"Easting (m)\", fontsize=20)\n",
    "pl.ylabel(\"Northing (m)\", fontsize=20)\n"
   ]
  },
  {
   "cell_type": "markdown",
   "metadata": {},
   "source": [
    "Above we have graphed numbers of Asthma dismissals by location. The darker the color the higher the count. Each point is graphed based on the centroid of the zipcode it stems from.\n",
    "Chat Conversation End\n"
   ]
  },
  {
   "cell_type": "markdown",
   "metadata": {
    "collapsed": true
   },
   "source": [
    "# Create and try to model the semi-variogram\n",
    "\n",
    "## define functions"
   ]
  },
  {
   "cell_type": "code",
   "execution_count": 20,
   "metadata": {
    "collapsed": true
   },
   "outputs": [],
   "source": [
    "def SVh_vctzd( P, h, bw ):\n",
    "    '''\n",
    "    Experimental semivariogram for a single lag\n",
    "    bw max distance\n",
    "    h lag\n",
    "    P data\n",
    "    '''\n",
    "    pdsv = squareform( pdist( P[:,:2] ) )\n",
    "    #print pdsv\n",
    "    N = pdsv.shape[0]\n",
    "    #print N\n",
    "    #print np.triu_indices(N)\n",
    "    Z = np.zeros((N,N))\n",
    "    Z = Z - P[:,2]\n",
    "    #print Z\n",
    "    Z = Z.T + P[:,2]\n",
    "    #print Z\n",
    "    Z = Z**2\n",
    "    #print Z\n",
    "    Zcd =  Z[(pdsv >= h - bw) * (pdsv <= h + bw) * \\\n",
    "            (~np.identity(N, dtype=bool))]\n",
    "\n",
    "    #print Zcd\n",
    "    return np.sum( Zcd ) / ( 2.0 * len( Zcd ) )\n",
    "\n",
    "def SVh( P, h, bw ):\n",
    "    '''\n",
    "    Experimental semivariogram for a single lag\n",
    "    bw max distance\n",
    "    h lag\n",
    "    P data\n",
    "    '''\n",
    "    #distance matrix (eucledian)\n",
    "    pdsv = squareform( pdist( P[:,:2] ) )\n",
    "    #print pdsv\n",
    "    N = pdsv.shape[0]\n",
    "    #print N\n",
    "\n",
    "    Z = list()\n",
    "    for i in range(N):\n",
    "        for j in range(i+1, N):\n",
    "            #select only pair of points at the appropriate lag\n",
    "            if( pdsv[i,j] >= h - bw )and( pdsv[i,j] <= h + bw ):\n",
    "                Z.append( ( P[i,2] - P[j,2] )**2.0 )\n",
    "    #print Z\n",
    "    return np.sum( Z ) / ( 2.0 * len( Z ) )\n",
    "\n",
    "\n",
    "def SV( P, hs, bw ):\n",
    "    '''\n",
    "    Experimental variogram for a collection of lags\n",
    "    '''\n",
    "    sv = list()\n",
    "    for h in hs:\n",
    "        #print h\n",
    "        sv.append( SVh( P, h, bw ) )\n",
    "        #sv.append( SVh_vctzd ( P, h, bw ) )\n",
    "    sv = [ [ hs[i], sv[i] ] for i in range( len( hs ) ) if sv[i] > 0 ]\n",
    "    return np.array( sv ).T"
   ]
  },
  {
   "cell_type": "markdown",
   "metadata": {},
   "source": [
    "## Working data"
   ]
  },
  {
   "cell_type": "markdown",
   "metadata": {},
   "source": [
    "i am not sure about this part on hoe should i choose some numbers"
   ]
  },
  {
   "cell_type": "code",
   "execution_count": 29,
   "metadata": {
    "collapsed": false
   },
   "outputs": [],
   "source": [
    "mysv = SVh(krigdata, 92000, 500 )\n"
   ]
  },
  {
   "cell_type": "code",
   "execution_count": 30,
   "metadata": {
    "collapsed": false
   },
   "outputs": [
    {
     "name": "stdout",
     "output_type": "stream",
     "text": [
      "1000 loops, best of 3: 397 µs per loop\n"
     ]
    }
   ],
   "source": [
    "%timeit -n 1000 mysv = SVh( krigdata, 92000, 500 )\n"
   ]
  },
  {
   "cell_type": "code",
   "execution_count": 31,
   "metadata": {
    "collapsed": false
   },
   "outputs": [
    {
     "name": "stdout",
     "output_type": "stream",
     "text": [
      "556814.333333\n"
     ]
    }
   ],
   "source": [
    "print  SVh( krigdata, 92000, 500 )\n"
   ]
  },
  {
   "cell_type": "code",
   "execution_count": 32,
   "metadata": {
    "collapsed": false
   },
   "outputs": [
    {
     "name": "stdout",
     "output_type": "stream",
     "text": [
      "1000 loops, best of 3: 131 µs per loop\n"
     ]
    }
   ],
   "source": [
    "%timeit -n 1000 mysv = SVh_vctzd( krigdata, 92000, 500 )\n"
   ]
  },
  {
   "cell_type": "code",
   "execution_count": 33,
   "metadata": {
    "collapsed": false
   },
   "outputs": [
    {
     "name": "stdout",
     "output_type": "stream",
     "text": [
      "556814.333333\n"
     ]
    }
   ],
   "source": [
    "print  SVh_vctzd( krigdata, 92000, 500 )\n"
   ]
  },
  {
   "cell_type": "code",
   "execution_count": 34,
   "metadata": {
    "collapsed": false
   },
   "outputs": [],
   "source": [
    "lag = 100\n",
    "mysv = SV( krigdata, np.arange(92000, 1080000, lag), 500 )\n"
   ]
  },
  {
   "cell_type": "code",
   "execution_count": 35,
   "metadata": {
    "collapsed": false
   },
   "outputs": [
    {
     "data": {
      "text/plain": [
       "array([[  9.20000000e+04,   9.21000000e+04,   9.22000000e+04,\n",
       "          9.23000000e+04,   9.24000000e+04,   9.25000000e+04,\n",
       "          9.26000000e+04,   9.27000000e+04,   9.28000000e+04,\n",
       "          9.29000000e+04,   9.30000000e+04,   9.31000000e+04,\n",
       "          9.32000000e+04,   9.33000000e+04,   9.34000000e+04,\n",
       "          9.35000000e+04,   9.36000000e+04,   9.37000000e+04,\n",
       "          9.38000000e+04,   9.39000000e+04,   9.40000000e+04,\n",
       "          9.41000000e+04,   9.42000000e+04,   9.43000000e+04,\n",
       "          9.44000000e+04,   9.45000000e+04,   9.46000000e+04,\n",
       "          9.47000000e+04,   9.48000000e+04,   9.49000000e+04,\n",
       "          9.50000000e+04,   9.51000000e+04,   9.52000000e+04,\n",
       "          9.53000000e+04,   9.54000000e+04,   9.55000000e+04,\n",
       "          9.56000000e+04,   9.57000000e+04,   9.58000000e+04,\n",
       "          9.59000000e+04,   9.60000000e+04,   9.61000000e+04,\n",
       "          9.62000000e+04,   9.63000000e+04,   9.64000000e+04,\n",
       "          9.65000000e+04,   9.66000000e+04,   9.67000000e+04,\n",
       "          9.68000000e+04,   9.69000000e+04,   9.70000000e+04,\n",
       "          9.71000000e+04,   9.72000000e+04,   9.73000000e+04,\n",
       "          9.74000000e+04,   9.75000000e+04,   9.76000000e+04,\n",
       "          9.77000000e+04,   9.78000000e+04,   9.79000000e+04,\n",
       "          9.80000000e+04,   9.81000000e+04,   9.82000000e+04,\n",
       "          9.83000000e+04,   9.84000000e+04,   9.85000000e+04,\n",
       "          9.86000000e+04,   9.87000000e+04,   9.88000000e+04,\n",
       "          9.89000000e+04,   9.90000000e+04,   9.91000000e+04,\n",
       "          9.92000000e+04,   9.93000000e+04,   9.94000000e+04,\n",
       "          9.95000000e+04,   9.96000000e+04,   9.97000000e+04,\n",
       "          9.98000000e+04,   9.99000000e+04,   1.00000000e+05,\n",
       "          1.00100000e+05,   1.00200000e+05,   1.00300000e+05,\n",
       "          1.00400000e+05,   1.00500000e+05,   1.00600000e+05,\n",
       "          1.02000000e+05,   1.02100000e+05,   1.02200000e+05,\n",
       "          1.02300000e+05,   1.02400000e+05,   1.02500000e+05,\n",
       "          1.02600000e+05,   1.02700000e+05,   1.02800000e+05,\n",
       "          1.02900000e+05,   1.03000000e+05,   1.03100000e+05,\n",
       "          1.03200000e+05,   1.03300000e+05,   1.03400000e+05,\n",
       "          1.03500000e+05,   1.03600000e+05,   1.03700000e+05,\n",
       "          1.03800000e+05,   1.03900000e+05,   1.04000000e+05,\n",
       "          1.04100000e+05,   1.04200000e+05,   1.04600000e+05,\n",
       "          1.04700000e+05,   1.04800000e+05,   1.04900000e+05,\n",
       "          1.05000000e+05,   1.05100000e+05,   1.05200000e+05,\n",
       "          1.05300000e+05,   1.05400000e+05,   1.05500000e+05,\n",
       "          1.05600000e+05,   1.05700000e+05,   1.05800000e+05,\n",
       "          1.05900000e+05,   1.07900000e+05,   1.08000000e+05,\n",
       "          1.08100000e+05,   1.08200000e+05,   1.08300000e+05,\n",
       "          1.08400000e+05,   1.08500000e+05,   1.08600000e+05,\n",
       "          1.08700000e+05,   1.08800000e+05,   1.08900000e+05,\n",
       "          1.09000000e+05,   1.09100000e+05,   1.09200000e+05,\n",
       "          1.09300000e+05,   1.09400000e+05,   1.09500000e+05,\n",
       "          1.09600000e+05,   1.11700000e+05,   1.11800000e+05,\n",
       "          1.11900000e+05,   1.12000000e+05,   1.12100000e+05,\n",
       "          1.12200000e+05,   1.12300000e+05,   1.12400000e+05,\n",
       "          1.12500000e+05,   1.12600000e+05,   1.12700000e+05,\n",
       "          1.12800000e+05,   1.12900000e+05,   1.14700000e+05,\n",
       "          1.14800000e+05,   1.14900000e+05,   1.15000000e+05,\n",
       "          1.15100000e+05,   1.15200000e+05,   1.15300000e+05,\n",
       "          1.15400000e+05,   1.15500000e+05,   1.15600000e+05,\n",
       "          1.16900000e+05,   1.17000000e+05,   1.17100000e+05,\n",
       "          1.17200000e+05,   1.17300000e+05,   1.17400000e+05,\n",
       "          1.17500000e+05,   1.17600000e+05,   1.17700000e+05,\n",
       "          1.17800000e+05,   1.17900000e+05,   1.18000000e+05,\n",
       "          1.18100000e+05,   1.18200000e+05,   1.18800000e+05,\n",
       "          1.18900000e+05,   1.19000000e+05,   1.19100000e+05,\n",
       "          1.19200000e+05,   1.19300000e+05,   1.19400000e+05,\n",
       "          1.19500000e+05,   1.19600000e+05,   1.19700000e+05,\n",
       "          1.19800000e+05,   1.19900000e+05,   1.20000000e+05,\n",
       "          1.20100000e+05,   1.20200000e+05,   1.20300000e+05,\n",
       "          1.20400000e+05,   1.20500000e+05,   1.20600000e+05,\n",
       "          1.20700000e+05,   1.20800000e+05,   1.20900000e+05,\n",
       "          1.21000000e+05,   1.21100000e+05,   1.21200000e+05,\n",
       "          1.21300000e+05,   1.21400000e+05,   1.21500000e+05,\n",
       "          1.21600000e+05,   1.21700000e+05,   1.21800000e+05,\n",
       "          1.21900000e+05,   1.22000000e+05,   1.22100000e+05,\n",
       "          1.22200000e+05,   1.22800000e+05,   1.22900000e+05,\n",
       "          1.23000000e+05,   1.23100000e+05,   1.23200000e+05,\n",
       "          1.23300000e+05,   1.23400000e+05,   1.23500000e+05,\n",
       "          1.23600000e+05,   1.23700000e+05,   1.23800000e+05,\n",
       "          1.23900000e+05,   1.24000000e+05,   1.24100000e+05,\n",
       "          1.24200000e+05,   1.24300000e+05,   1.24400000e+05,\n",
       "          1.24500000e+05,   1.24600000e+05,   1.24700000e+05,\n",
       "          1.24800000e+05,   1.24900000e+05,   1.25000000e+05,\n",
       "          1.25100000e+05,   1.25200000e+05,   1.25300000e+05,\n",
       "          1.25400000e+05,   1.25500000e+05,   1.28800000e+05,\n",
       "          1.28900000e+05,   1.29000000e+05,   1.29100000e+05,\n",
       "          1.29200000e+05,   1.29300000e+05,   1.29400000e+05,\n",
       "          1.29500000e+05,   1.29600000e+05,   1.29700000e+05,\n",
       "          1.32900000e+05,   1.33000000e+05,   1.33100000e+05,\n",
       "          1.33200000e+05,   1.33300000e+05,   1.33400000e+05,\n",
       "          1.33500000e+05,   1.33600000e+05,   1.33700000e+05,\n",
       "          1.33800000e+05,   1.35400000e+05,   1.35500000e+05,\n",
       "          1.35600000e+05,   1.35700000e+05,   1.35800000e+05,\n",
       "          1.35900000e+05,   1.36000000e+05,   1.36100000e+05,\n",
       "          1.36200000e+05,   1.36300000e+05,   1.36400000e+05,\n",
       "          1.36500000e+05,   1.36600000e+05,   1.38300000e+05,\n",
       "          1.38400000e+05,   1.38500000e+05,   1.38600000e+05,\n",
       "          1.38700000e+05,   1.38800000e+05,   1.38900000e+05,\n",
       "          1.39000000e+05,   1.39100000e+05,   1.39200000e+05,\n",
       "          1.44400000e+05,   1.44500000e+05,   1.44600000e+05,\n",
       "          1.44700000e+05,   1.44800000e+05,   1.44900000e+05,\n",
       "          1.45000000e+05,   1.45100000e+05,   1.45200000e+05,\n",
       "          1.45300000e+05,   1.55000000e+05,   1.55100000e+05,\n",
       "          1.55200000e+05,   1.55300000e+05,   1.55400000e+05,\n",
       "          1.55500000e+05,   1.55600000e+05,   1.55700000e+05,\n",
       "          1.55800000e+05,   1.55900000e+05,   1.58500000e+05,\n",
       "          1.58600000e+05,   1.58700000e+05,   1.58800000e+05,\n",
       "          1.58900000e+05,   1.59000000e+05,   1.59100000e+05,\n",
       "          1.59200000e+05,   1.59300000e+05,   1.59400000e+05,\n",
       "          1.62900000e+05,   1.63000000e+05,   1.63100000e+05,\n",
       "          1.63200000e+05,   1.63300000e+05,   1.63400000e+05,\n",
       "          1.63500000e+05,   1.63600000e+05,   1.63700000e+05,\n",
       "          1.63800000e+05,   1.66200000e+05,   1.66300000e+05,\n",
       "          1.66400000e+05,   1.66500000e+05,   1.66600000e+05,\n",
       "          1.66700000e+05,   1.66800000e+05,   1.66900000e+05,\n",
       "          1.67000000e+05,   1.67100000e+05],\n",
       "       [  5.56814333e+05,   5.56814333e+05,   6.42674700e+05,\n",
       "          6.42674700e+05,   4.96816700e+05,   5.66405750e+05,\n",
       "          5.66405750e+05,   5.66405750e+05,   7.46391000e+05,\n",
       "          1.94816250e+05,   1.94816250e+05,   1.94816250e+05,\n",
       "          1.94816250e+05,   1.94816250e+05,   2.66805000e+04,\n",
       "          2.66805000e+04,   6.00096250e+05,   6.00096250e+05,\n",
       "          6.00096250e+05,   5.90237000e+05,   5.90237000e+05,\n",
       "          5.90237000e+05,   5.90237000e+05,   5.90237000e+05,\n",
       "          5.90237000e+05,   5.90237000e+05,   6.96200000e+03,\n",
       "          6.96200000e+03,   6.96200000e+03,   1.45800000e+05,\n",
       "          8.63221000e+05,   8.63221000e+05,   8.63221000e+05,\n",
       "          8.63221000e+05,   8.63221000e+05,   8.63221000e+05,\n",
       "          1.08182217e+06,   1.08182217e+06,   8.42867125e+05,\n",
       "          1.07522283e+06,   8.22513250e+05,   8.22513250e+05,\n",
       "          8.22513250e+05,   8.22513250e+05,   8.22513250e+05,\n",
       "          6.08742833e+05,   1.53602000e+05,   1.53602000e+05,\n",
       "          1.81202000e+05,   1.71257000e+05,   1.79275500e+05,\n",
       "          1.79275500e+05,   1.79275500e+05,   1.79275500e+05,\n",
       "          1.79275500e+05,   1.78312250e+05,   1.47028333e+05,\n",
       "          1.47028333e+05,   1.47028333e+05,   1.39886500e+05,\n",
       "          8.44605000e+04,   8.44605000e+04,   6.79905000e+04,\n",
       "          6.79905000e+04,   6.79905000e+04,   5.14071667e+04,\n",
       "          3.48805000e+04,   3.48805000e+04,   3.48805000e+04,\n",
       "          3.48805000e+04,   3.48805000e+04,   6.51814333e+05,\n",
       "          9.51961250e+05,   9.51961250e+05,   9.51961250e+05,\n",
       "          1.88568200e+06,   1.88568200e+06,   1.41825125e+06,\n",
       "          1.41825125e+06,   1.41825125e+06,   1.41825125e+06,\n",
       "          9.50820500e+05,   9.50820500e+05,   9.50820500e+05,\n",
       "          9.50820500e+05,   9.50820500e+05,   9.50820500e+05,\n",
       "          5.83200000e+03,   5.83200000e+03,   5.83200000e+03,\n",
       "          5.83200000e+03,   4.24825000e+03,   4.24825000e+03,\n",
       "          6.67500333e+05,   6.67500333e+05,   6.67500333e+05,\n",
       "          6.67500333e+05,   9.98334500e+05,   9.98334500e+05,\n",
       "          6.88993833e+05,   6.44510500e+05,   8.58459167e+05,\n",
       "          8.58459167e+05,   2.90686500e+05,   2.90686500e+05,\n",
       "          2.90686500e+05,   2.90686500e+05,   2.90686500e+05,\n",
       "          2.90686500e+05,   5.11060500e+05,   3.69920000e+04,\n",
       "          3.69920000e+04,   3.69920000e+04,   3.69920000e+04,\n",
       "          9.63280000e+05,   9.63280000e+05,   9.63280000e+05,\n",
       "          9.63280000e+05,   9.63280000e+05,   9.63280000e+05,\n",
       "          1.88956800e+06,   1.88956800e+06,   1.88956800e+06,\n",
       "          1.88956800e+06,   3.75380000e+04,   3.75380000e+04,\n",
       "          3.75380000e+04,   3.75380000e+04,   3.75380000e+04,\n",
       "          4.33505000e+05,   3.06824833e+05,   3.06824833e+05,\n",
       "          6.55160625e+05,   6.55160625e+05,   8.61034833e+05,\n",
       "          8.61034833e+05,   8.61034833e+05,   8.61034833e+05,\n",
       "          8.61034833e+05,   8.76816250e+05,   1.70016800e+06,\n",
       "          1.70016800e+06,   1.53650450e+06,   1.53650450e+06,\n",
       "          1.53650450e+06,   1.16012825e+06,   1.16012825e+06,\n",
       "          1.16012825e+06,   1.16012825e+06,   1.16012825e+06,\n",
       "          1.16012825e+06,   1.16012825e+06,   7.83752000e+05,\n",
       "          7.83752000e+05,   7.83752000e+05,   1.51380000e+04,\n",
       "          1.51380000e+04,   1.51380000e+04,   1.51380000e+04,\n",
       "          1.51380000e+04,   1.51380000e+04,   1.51380000e+04,\n",
       "          1.51380000e+04,   1.51380000e+04,   1.51380000e+04,\n",
       "          1.14720500e+05,   1.14720500e+05,   1.14720500e+05,\n",
       "          1.14720500e+05,   7.94382500e+05,   7.94382500e+05,\n",
       "          7.94382500e+05,   7.94382500e+05,   7.94382500e+05,\n",
       "          7.94382500e+05,   1.47404450e+06,   1.47404450e+06,\n",
       "          1.47404450e+06,   1.47404450e+06,   9.24800000e+03,\n",
       "          9.24800000e+03,   9.24800000e+03,   9.24800000e+03,\n",
       "          9.24800000e+03,   9.24800000e+03,   6.34625000e+03,\n",
       "          6.34625000e+03,   6.34625000e+03,   6.34625000e+03,\n",
       "          3.44450000e+03,   3.44450000e+03,   3.44450000e+03,\n",
       "          3.44450000e+03,   3.44450000e+03,   3.44450000e+03,\n",
       "          3.38000000e+04,   3.38000000e+04,   3.38000000e+04,\n",
       "          3.38000000e+04,   3.38000000e+04,   3.38000000e+04,\n",
       "          3.38000000e+04,   3.38000000e+04,   3.38000000e+04,\n",
       "          8.32062500e+04,   1.32612500e+05,   1.32612500e+05,\n",
       "          1.32612500e+05,   1.32612500e+05,   1.32612500e+05,\n",
       "          1.32612500e+05,   1.32612500e+05,   1.32612500e+05,\n",
       "          1.32612500e+05,   8.90420000e+04,   8.90420000e+04,\n",
       "          8.90420000e+04,   8.90420000e+04,   8.90420000e+04,\n",
       "          8.90420000e+04,   8.90420000e+04,   8.90420000e+04,\n",
       "          8.90420000e+04,   4.70712500e+04,   5.10050000e+03,\n",
       "          5.10050000e+03,   5.10050000e+03,   5.10050000e+03,\n",
       "          5.10050000e+03,   5.10050000e+03,   5.10050000e+03,\n",
       "          5.10050000e+03,   3.10250000e+03,   1.10450000e+03,\n",
       "          1.10450000e+03,   1.10450000e+03,   1.10450000e+03,\n",
       "          1.10450000e+03,   1.10450000e+03,   1.10450000e+03,\n",
       "          1.10450000e+03,   1.10450000e+03,   2.81250000e+03,\n",
       "          2.81250000e+03,   2.81250000e+03,   2.81250000e+03,\n",
       "          2.81250000e+03,   2.81250000e+03,   2.81250000e+03,\n",
       "          2.81250000e+03,   2.81250000e+03,   2.81250000e+03,\n",
       "          1.20590450e+06,   1.20590450e+06,   1.20590450e+06,\n",
       "          1.20590450e+06,   1.20590450e+06,   1.20590450e+06,\n",
       "          1.20590450e+06,   1.20590450e+06,   1.20590450e+06,\n",
       "          1.20590450e+06,   1.09520000e+04,   1.09520000e+04,\n",
       "          1.09520000e+04,   6.69800000e+04,   6.69800000e+04,\n",
       "          6.69800000e+04,   6.69800000e+04,   6.69800000e+04,\n",
       "          6.69800000e+04,   6.69800000e+04,   1.23008000e+05,\n",
       "          1.23008000e+05,   1.23008000e+05,   4.29664500e+05,\n",
       "          4.29664500e+05,   4.29664500e+05,   4.29664500e+05,\n",
       "          4.29664500e+05,   4.29664500e+05,   4.29664500e+05,\n",
       "          4.29664500e+05,   4.29664500e+05,   4.29664500e+05,\n",
       "          2.29164500e+05,   2.29164500e+05,   2.29164500e+05,\n",
       "          2.29164500e+05,   2.29164500e+05,   2.29164500e+05,\n",
       "          2.29164500e+05,   2.29164500e+05,   2.29164500e+05,\n",
       "          2.29164500e+05,   1.20745800e+06,   1.20745800e+06,\n",
       "          1.20745800e+06,   1.20745800e+06,   1.20745800e+06,\n",
       "          1.20745800e+06,   1.20745800e+06,   1.20745800e+06,\n",
       "          1.20745800e+06,   1.20745800e+06,   2.03818050e+06,\n",
       "          2.03818050e+06,   2.03818050e+06,   2.03818050e+06,\n",
       "          2.03818050e+06,   2.03818050e+06,   2.03818050e+06,\n",
       "          2.03818050e+06,   2.03818050e+06,   2.03818050e+06,\n",
       "          3.04980500e+05,   3.04980500e+05,   3.04980500e+05,\n",
       "          3.04980500e+05,   3.04980500e+05,   3.04980500e+05,\n",
       "          3.04980500e+05,   3.04980500e+05,   3.04980500e+05,\n",
       "          3.04980500e+05,   6.09005000e+04,   6.09005000e+04,\n",
       "          6.09005000e+04,   6.09005000e+04,   6.09005000e+04,\n",
       "          6.09005000e+04,   6.09005000e+04,   6.09005000e+04,\n",
       "          6.09005000e+04,   6.09005000e+04]])"
      ]
     },
     "execution_count": 35,
     "metadata": {},
     "output_type": "execute_result"
    }
   ],
   "source": [
    "mysv"
   ]
  },
  {
   "cell_type": "markdown",
   "metadata": {},
   "source": [
    "# Plotting"
   ]
  },
  {
   "cell_type": "code",
   "execution_count": 36,
   "metadata": {
    "collapsed": false
   },
   "outputs": [
    {
     "data": {
      "text/plain": [
       "<matplotlib.text.Text at 0x11bdcd850>"
      ]
     },
     "execution_count": 36,
     "metadata": {},
     "output_type": "execute_result"
    },
    {
     "data": {
      "image/png": "[encoded data removed]",
      "text/plain": [
       "<matplotlib.figure.Figure at 0x11bd84910>"
      ]
     },
     "metadata": {},
     "output_type": "display_data"
    }
   ],
   "source": [
    "hs = np.arange(0, 1000, lag)\n",
    "#mysv = SV( krigdata, hs, bw )\n",
    "pl.figure(figsize=(7,7))\n",
    "pl.plot(mysv[0], mysv[1], '.-' )\n",
    "pl.xlabel('Lag [m]', fontsize=20)\n",
    "pl.ylabel('Semivariogram', fontsize=20)\n",
    "pl.title('Sample Semivariogram\\nporosity data, lag %dm'%lag, fontsize=20) "
   ]
  },
  {
   "cell_type": "code",
   "execution_count": null,
   "metadata": {
    "collapsed": true
   },
   "outputs": [],
   "source": []
  }
 ],
 "metadata": {
  "anaconda-cloud": {},
  "kernelspec": {
   "display_name": "Python [conda root]",
   "language": "python",
   "name": "conda-root-py"
  },
  "language_info": {
   "codemirror_mode": {
    "name": "ipython",
    "version": 2
   },
   "file_extension": ".py",
   "mimetype": "text/x-python",
   "name": "python",
   "nbconvert_exporter": "python",
   "pygments_lexer": "ipython2",
   "version": "2.7.12"
  }
 },
 "nbformat": 4,
 "nbformat_minor": 0
}
